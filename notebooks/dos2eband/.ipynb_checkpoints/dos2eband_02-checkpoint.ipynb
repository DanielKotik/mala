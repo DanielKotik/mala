{
 "cells": [
  {
   "cell_type": "markdown",
   "metadata": {},
   "source": [
    "Attila Cangi, 14.02.2020"
   ]
  },
  {
   "cell_type": "code",
   "execution_count": 1,
   "metadata": {},
   "outputs": [],
   "source": [
    "import math\n",
    "import numpy as np\n",
    "import scipy as sp\n",
    "from scipy import integrate\n",
    "from scipy import interpolate\n",
    "from scipy.optimize import minimize\n",
    "import matplotlib.pyplot as plt"
   ]
  },
  {
   "cell_type": "markdown",
   "metadata": {},
   "source": [
    "Parameters"
   ]
  },
  {
   "cell_type": "code",
   "execution_count": 2,
   "metadata": {},
   "outputs": [],
   "source": [
    "# Temperature\n",
    "temp = 298\n",
    "\n",
    "# Fermi Level\n",
    "fermi_energy = 7.770345\n",
    "\n",
    "# Boltzmann's constant\n",
    "k = 8.617333262145e-5\n",
    "\n",
    "# Conversion factor from Rydberg to eV\n",
    "Ry2eV = 13.6056980659\n",
    "\n",
    "# Gaussian smearing in QE-DOS calculations\n",
    "# taken from QE-DOS input file\n",
    "sigma_qe = 0.032"
   ]
  },
  {
   "cell_type": "markdown",
   "metadata": {},
   "source": [
    "Load eigenvalues and DOS from QE output"
   ]
  },
  {
   "cell_type": "code",
   "execution_count": 3,
   "metadata": {},
   "outputs": [],
   "source": [
    "# filepath: blake.sandia.gov:/home/acangi/q-e_calcs/Al/datasets/vasp_econ_snapshots/298K/2.699g/170726180545.0/100Ry_k333\n",
    "## Snapshot 0: Eigenvalues (from PW std output file, slurm-1006575.out)\n",
    "### rows: band index, row i: eigs[i , :]\n",
    "### cols: k points,   col j: eigs[: , j]\n",
    "eigs_qe = np.loadtxt('snap_0/EIGS', delimiter=',')\n",
    "k_weights_qe = np.loadtxt('snap_0/k_weights', delimiter=',')\n",
    "## DOS\n",
    "dos_qe = np.loadtxt('snap_0/Al.dos', skiprows=1)\n",
    "## Snapshot 1: Eigenvalues (from PW std output file, slurm-1006846.out)\n",
    "### rows: band index, row i: eigs[i , :]\n",
    "### cols: k points,   col j: eigs[: , j]\n",
    "eigs_qe_01 = np.loadtxt('snap_1/EIGS', delimiter=',')\n",
    "k_weights_qe_01 = np.loadtxt('snap_1/k_weights', delimiter=',')\n",
    "## DOS\n",
    "dos_qe_01 = np.loadtxt('snap_1/Al.dos', skiprows=1)"
   ]
  },
  {
   "cell_type": "markdown",
   "metadata": {},
   "source": [
    "Define functions"
   ]
  },
  {
   "cell_type": "code",
   "execution_count": 4,
   "metadata": {},
   "outputs": [],
   "source": [
    "# Fermi-Dirac distribution function\n",
    "def fd_function(energy, eF, t):                                                                                                 \n",
    "    return 1.0 / (1.0 + np.exp((energy - eF) / (k * t)))"
   ]
  },
  {
   "cell_type": "code",
   "execution_count": 5,
   "metadata": {},
   "outputs": [],
   "source": [
    "# Define Gaussian\n",
    "## Note: Gaussian without factor of 1/sqrt(2)\n",
    "def gaussian(en, eF, sigma):\n",
    "    result = 1.0/np.sqrt(np.pi*sigma**2)*np.exp(-1.0*((en-eF)/sigma)**2)\n",
    "    return result"
   ]
  },
  {
   "cell_type": "code",
   "execution_count": 6,
   "metadata": {},
   "outputs": [],
   "source": [
    "# Function generating DOS from eigenvalues\n",
    "def gen_DOS(k_weights, array_en, array_eigs, sigma):\n",
    "    # input:\n",
    "    ## k_weights: weights of k-point summation (taken from QE output)\n",
    "    ## array_en: energy grid [eV]\n",
    "    ## array_eigs: array[dim_bnd, dim_k] containing eigenvalues (\\epsilon_{i,k})\n",
    "    ## sigma: width of Gaussian [eV]\n",
    "    # output:\n",
    "    ## array_dos: ra_dos\n",
    "    ## array_dos_contr: ra_dos_ik (terms for each i,k)\n",
    "    dim_bnd = len((array_eigs[: , 0]))\n",
    "    dim_k = len((array_eigs[0 , :]))\n",
    "    ra_en = array_en #dos_qe[: , 0]       # energy grid (same as QE-DOS input/output) \n",
    "    ra_dos_ik = [[] for i in range(dim_bnd)]\n",
    "    ra_dos = np.zeros(len(array_en)) #create empty array\n",
    "    for idx_bnd in range(dim_bnd):\n",
    "        for idx_k in range(dim_k):\n",
    "            ra_dos_ik[idx_bnd].append(gaussian(ra_en, array_eigs[idx_bnd , :][idx_k], sigma))\n",
    "            # Sum the Gaussians over idx_band and idx_k\n",
    "            ra_dos += k_weights[idx_k]*ra_dos_ik[idx_bnd][idx_k]\n",
    "    return ra_dos #, ra_dos_ik"
   ]
  },
  {
   "cell_type": "code",
   "execution_count": 7,
   "metadata": {},
   "outputs": [],
   "source": [
    "# Function generating DOS from eigenvalues\n",
    "def gen_EIG(k_weights, array_eigs):\n",
    "    # input:\n",
    "    ## k_weights: weights of k-point summation (taken from QE output)\n",
    "    ## array_en: energy grid [eV]\n",
    "    ## array_eigs: array[dim_bnd, dim_k] containing eigenvalues (\\epsilon_{i,k})\n",
    "    ## sigma: width of Gaussian [eV]\n",
    "    # output:\n",
    "    ## array_dos: ra_dos\n",
    "    ## array_dos_contr: ra_dos_ik (terms for each i,k)\n",
    "    dim_bnd = len((array_eigs[: , 0]))\n",
    "    dim_k = len((array_eigs[0 , :]))\n",
    "    ra_fd = fd_function(array_eigs, eF=fermi_energy, t=temp)\n",
    "    eig = 0.0\n",
    "    for idx_bnd in range(dim_bnd):\n",
    "        for idx_k in range(dim_k):\n",
    "            # Sum the Gaussians over idx_band and idx_k\n",
    "            eig += k_weights[idx_k]*array_eigs[idx_bnd , :][idx_k]*ra_fd[idx_bnd , :][idx_k]  \n",
    "    return eig"
   ]
  },
  {
   "cell_type": "code",
   "execution_count": 8,
   "metadata": {},
   "outputs": [],
   "source": [
    "# Function generating DOS from eigenvalues\n",
    "def gen_NUM(k_weights, array_eigs):\n",
    "    # input:\n",
    "    ## k_weights: weights of k-point summation (taken from QE output)\n",
    "    ## array_en: energy grid [eV]\n",
    "    ## array_eigs: array[dim_bnd, dim_k] containing eigenvalues (\\epsilon_{i,k})\n",
    "    ## sigma: width of Gaussian [eV]\n",
    "    # output:\n",
    "    ## array_dos: ra_dos\n",
    "    ## array_dos_contr: ra_dos_ik (terms for each i,k)\n",
    "    dim_bnd = len((array_eigs[: , 0]))\n",
    "    dim_k = len((array_eigs[0 , :]))\n",
    "    ra_fd = fd_function(array_eigs, eF=fermi_energy, t=temp)\n",
    "    num = 0.0\n",
    "    for idx_bnd in range(dim_bnd):\n",
    "        for idx_k in range(dim_k):\n",
    "            # Sum the Gaussians over idx_band and idx_k\n",
    "            num += k_weights[idx_k]*ra_fd[idx_bnd , :][idx_k]  \n",
    "    return num"
   ]
  },
  {
   "cell_type": "code",
   "execution_count": 12,
   "metadata": {},
   "outputs": [
    {
     "name": "stdout",
     "output_type": "stream",
     "text": [
      "2595.7730052436877\n"
     ]
    }
   ],
   "source": [
    "eband_ref=gen_EIG(k_weights_qe, eigs_qe)\n",
    "print(eband_ref)"
   ]
  },
  {
   "cell_type": "code",
   "execution_count": 18,
   "metadata": {},
   "outputs": [],
   "source": [
    "enum_ref=gen_NUM(k_weights_qe, eigs_qe)"
   ]
  },
  {
   "cell_type": "code",
   "execution_count": 50,
   "metadata": {},
   "outputs": [],
   "source": [
    "# Function generating band energy from DOS\n",
    "## Integrate DOS*E*FD to obtain band energy\n",
    "def gen_eband(k_weights, array_en, array_eigs, sigma):\n",
    "    # input:\n",
    "    ## k_weights: weights of k-point summation (taken from QE output)\n",
    "    ## array_en: energy grid [eV]\n",
    "    ## array_eigs: array[dim_bnd, dim_k] containing eigenvalues (\\epsilon_{i,k})\n",
    "    ## sigma: width of Gaussian [eV]\n",
    "    # output:\n",
    "    ## array_dos: ra_dos\n",
    "    ## array_dos_contr: ra_dos_ik (terms for each i,k)\n",
    "    ra_fd = fd_function(array_en, eF=fermi_energy, t=temp)\n",
    "    #ra_dos, ra_dos_ik = gen_DOS(k_weights_qe, array_en, eigs_qe, sigma)\n",
    "    ra_dos = gen_DOS(k_weights_qe, array_en, eigs_qe, sigma)\n",
    "    eband = sp.integrate.simps(ra_dos*array_en*ra_fd, array_en)\n",
    "    #Convert from eV to Ry for comparison with QE output\n",
    "    eband_Ry = eband/Ry2eV\n",
    "    return eband_Ry"
   ]
  },
  {
   "cell_type": "code",
   "execution_count": 14,
   "metadata": {},
   "outputs": [],
   "source": [
    "# Function generating integrated density (electron number) from DOS\n",
    "## Integrate DOS*FD to obtain band energy\n",
    "def gen_enum(k_weights, array_en, array_eigs, sigma):\n",
    "    # input:\n",
    "    ## k_weights: weights of k-point summation (taken from QE output)\n",
    "    ## array_eigs: array[dim_bnd, dim_k] containing eigenvalues (\\epsilon_{i,k})\n",
    "    ## sigma: width of Gaussian [eV]\n",
    "    # output:\n",
    "    ## array_dos: ra_dos\n",
    "    ## array_dos_contr: ra_dos_ik (terms for each i,k)\n",
    "    ra_fd = fd_function(array_en, eF=fermi_energy, t=temp)\n",
    "    #ra_dos, ra_dos_ik = gen_DOS(k_weights_qe, array_en, eigs_qe, sigma)\n",
    "    ra_dos = gen_DOS(k_weights_qe, array_en, eigs_qe, sigma)\n",
    "    enum = sp.integrate.trapz(ra_dos*ra_fd, array_en)\n",
    "    return enum"
   ]
  },
  {
   "cell_type": "markdown",
   "metadata": {},
   "source": [
    "Compute the DOS from its naive definition\n",
    "$$ D(E) = \\sum_i \\sum_k w_k\\, \\delta(\\epsilon-\\epsilon_{ik})$$\n",
    "where $i$ labels the band and $k$ the k point. We represent the $\\delta$-functions as a Gaussian\n",
    "$$\\delta(\\epsilon-\\epsilon_{ik}) = \\frac{1}{\\sqrt{\\pi\\sigma^2}}\\exp{\\left[-\\left(\\frac{\\epsilon-\\epsilon_{ik}}{\\sigma}\\right)^2\\right]}$$ \n",
    "with a width $\\sigma$."
   ]
  },
  {
   "cell_type": "markdown",
   "metadata": {},
   "source": [
    "Compute total DOS"
   ]
  },
  {
   "cell_type": "code",
   "execution_count": 15,
   "metadata": {},
   "outputs": [
    {
     "data": {
      "image/png": "[encoded data removed]",
      "text/plain": [
       "<Figure size 576x432 with 1 Axes>"
      ]
     },
     "metadata": {
      "needs_background": "light"
     },
     "output_type": "display_data"
    }
   ],
   "source": [
    "# Generate data\n",
    "ra_en = dos_qe[: , 0]\n",
    "ra_dos = gen_DOS(k_weights_qe, ra_en, eigs_qe, sigma=sigma_qe*Ry2eV )\n",
    "        \n",
    "# Plot data        \n",
    "plt.figure(figsize=[8,6])\n",
    "ax = plt.subplot(1,1,1)\n",
    "ax.set_xlabel(r'E [eV]')\n",
    "ax.set_ylabel(r'D(E)')\n",
    "plt.rcParams.update({'font.size': 22})\n",
    "\n",
    "ax.plot(dos_qe[: , 0],  dos_qe[: , 1], linestyle='-',  linewidth=3, color='black', label='QE-DOS')\n",
    "ax.plot(dos_qe[: , 0] , ra_dos,        linestyle='--', linewidth=3, color='red',  label='computed')\n",
    "\n",
    "# Legend\n",
    "ax.legend(loc='upper right',frameon=False, bbox_to_anchor=(1.5, 1))\n",
    "plt.show()"
   ]
  },
  {
   "cell_type": "markdown",
   "metadata": {},
   "source": [
    "We recover the QE-DOS result by using the same parameters as in the input for computing the DOS.\n",
    "Now we can go ahead and investigate different energy grids and smearing values in order to improve upon the band energy and achieve better agreement with the band-energy output of QE."
   ]
  },
  {
   "cell_type": "markdown",
   "metadata": {},
   "source": [
    "The \"band energy\" (or better, sum of eigenvalues) is defined as\n",
    "\n",
    "$$E_{band} = \\int_{-\\infty}^{\\infty} dE\\ D(E)\\, f(E)\\, E$$\n",
    "\n",
    "where $E$ denotes the energy, $D(E)$ the DOS, $f(E)$ the Fermi-Dirac distribution function."
   ]
  },
  {
   "cell_type": "markdown",
   "metadata": {},
   "source": [
    "The \"band energy\" is also called the \"single-particle energy\" or the \"one-electron energy\" and is obtained from summing the eigenvalues\n",
    "\n",
    "$$E_{band} = \\sum_i \\epsilon_i\\ .$$\n",
    "\n",
    "For look at the particular values for a given snapshot (data from ```blake.sandia.gov:/home/acangi/q-e_calcs/Al/datasets/vasp_econ_snapshots/298K/2.699g/170726180545.0/100Ry_k333```). QE prints the one-electron energy in the standard output, together with all the other energy contributions, e.g., \n",
    "```\n",
    "The total energy is the sum of the following terms:                                                  \n",
    "\n",
    "\n",
    "     one-electron contribution =     737.82754675 Ry\n",
    "     hartree contribution      =       4.77073244 Ry\n",
    "     xc contribution           =    -554.09988814 Ry\n",
    "     ewald contribution        =   -1375.56724973 Ry\n",
    "     smearing contrib. (-TS)   =      -0.02019845 Ry\n",
    "```\n",
    "However, what QE prints as the \"one-electron contribution\" is not the sum of the eigenvalues, but instead (see source code ```~/PW/src/electrons.f90``` lines 638-640)\n",
    "\n",
    "$$\\text{one-electron contribution} = \\sum_i \\epsilon_i - (E_h + E_{xc})$$\n",
    "\n",
    "In order to correctly compare the band energy obtained from integrating the DOS with the QE output we need to add the hartree and exchange-correlation contributions to the one-electron contribution."
   ]
  },
  {
   "cell_type": "code",
   "execution_count": null,
   "metadata": {},
   "outputs": [],
   "source": [
    "737.82754675"
   ]
  },
  {
   "cell_type": "markdown",
   "metadata": {},
   "source": [
    "The correct band energy from QE output is"
   ]
  },
  {
   "cell_type": "code",
   "execution_count": 148,
   "metadata": {},
   "outputs": [
    {
     "name": "stdout",
     "output_type": "stream",
     "text": [
      "188.49839105\n"
     ]
    }
   ],
   "source": [
    "eband_qe = 737.82754675+4.77073244-554.09988814\n",
    "print(eband_qe)"
   ]
  },
  {
   "cell_type": "code",
   "execution_count": 11,
   "metadata": {},
   "outputs": [
    {
     "name": "stdout",
     "output_type": "stream",
     "text": [
      "smearing width 0.032 eV (0.002351955764783704 Ry)\n",
      "Band energy 189.2858381982402 Ry)\n"
     ]
    }
   ],
   "source": [
    "# Generate band energy\n",
    "ra_en = dos_qe[: , 0]\n",
    "sigma_mod = sigma_qe\n",
    "eband = gen_eband(k_weights_qe, ra_en , eigs_qe, sigma=sigma_mod )\n",
    "print(\"smearing width {0} eV ({1} Ry)\".format(sigma_mod, sigma_mod/Ry2eV))\n",
    "print(\"Band energy {0} Ry)\".format(eband))"
   ]
  },
  {
   "cell_type": "code",
   "execution_count": 12,
   "metadata": {},
   "outputs": [
    {
     "name": "stdout",
     "output_type": "stream",
     "text": [
      "smearing width 0.0253616 eV (0.0018640425413793248 Ry)\n",
      "Band energy 188.49840580365412 Ry)\n"
     ]
    }
   ],
   "source": [
    "# Generate band energy\n",
    "ra_en = dos_qe[: , 0]\n",
    "sigma_mod = sigma_qe*0.79255\n",
    "eband = gen_eband(k_weights_qe, ra_en , eigs_qe, sigma=sigma_mod )\n",
    "print(\"smearing width {0} eV ({1} Ry)\".format(sigma_mod, sigma_mod/Ry2eV))\n",
    "print(\"Band energy {0} Ry)\".format(eband))"
   ]
  },
  {
   "cell_type": "code",
   "execution_count": 96,
   "metadata": {},
   "outputs": [
    {
     "name": "stdout",
     "output_type": "stream",
     "text": [
      "0.10999999999999943\n"
     ]
    }
   ],
   "source": [
    "ewidth = dos_qe[: , 0][1]-dos_qe[: , 0][0]\n",
    "print(ewidth)"
   ]
  },
  {
   "cell_type": "code",
   "execution_count": 108,
   "metadata": {},
   "outputs": [
    {
     "data": {
      "text/plain": [
       "0.0007349861764949075"
      ]
     },
     "execution_count": 108,
     "metadata": {},
     "output_type": "execute_result"
    }
   ],
   "source": [
    "10e-3/Ry2eV"
   ]
  },
  {
   "cell_type": "code",
   "execution_count": 110,
   "metadata": {},
   "outputs": [
    {
     "data": {
      "text/plain": [
       "0.14966267872489925"
      ]
     },
     "execution_count": 110,
     "metadata": {},
     "output_type": "execute_result"
    }
   ],
   "source": [
    "ewidth*Ry2eV"
   ]
  },
  {
   "cell_type": "code",
   "execution_count": 100,
   "metadata": {},
   "outputs": [
    {
     "data": {
      "text/plain": [
       "array([-4.6270e+00, -4.5170e+00, -4.4070e+00, -4.2970e+00, -4.1860e+00,\n",
       "       -4.0760e+00, -3.9660e+00, -3.8560e+00, -3.7460e+00, -3.6350e+00,\n",
       "       -3.5250e+00, -3.4150e+00, -3.3050e+00, -3.1940e+00, -3.0840e+00,\n",
       "       -2.9740e+00, -2.8640e+00, -2.7530e+00, -2.6430e+00, -2.5330e+00,\n",
       "       -2.4230e+00, -2.3120e+00, -2.2020e+00, -2.0920e+00, -1.9820e+00,\n",
       "       -1.8720e+00, -1.7610e+00, -1.6510e+00, -1.5410e+00, -1.4310e+00,\n",
       "       -1.3200e+00, -1.2100e+00, -1.1000e+00, -9.9000e-01, -8.7900e-01,\n",
       "       -7.6900e-01, -6.5900e-01, -5.4900e-01, -4.3800e-01, -3.2800e-01,\n",
       "       -2.1800e-01, -1.0800e-01,  2.0000e-03,  1.1300e-01,  2.2300e-01,\n",
       "        3.3300e-01,  4.4300e-01,  5.5400e-01,  6.6400e-01,  7.7400e-01,\n",
       "        8.8400e-01,  9.9500e-01,  1.1050e+00,  1.2150e+00,  1.3250e+00,\n",
       "        1.4360e+00,  1.5460e+00,  1.6560e+00,  1.7660e+00,  1.8770e+00,\n",
       "        1.9870e+00,  2.0970e+00,  2.2070e+00,  2.3170e+00,  2.4280e+00,\n",
       "        2.5380e+00,  2.6480e+00,  2.7580e+00,  2.8690e+00,  2.9790e+00,\n",
       "        3.0890e+00,  3.1990e+00,  3.3100e+00,  3.4200e+00,  3.5300e+00,\n",
       "        3.6400e+00,  3.7510e+00,  3.8610e+00,  3.9710e+00,  4.0810e+00,\n",
       "        4.1910e+00,  4.3020e+00,  4.4120e+00,  4.5220e+00,  4.6320e+00,\n",
       "        4.7430e+00,  4.8530e+00,  4.9630e+00,  5.0730e+00,  5.1840e+00,\n",
       "        5.2940e+00,  5.4040e+00,  5.5140e+00,  5.6250e+00,  5.7350e+00,\n",
       "        5.8450e+00,  5.9550e+00,  6.0650e+00,  6.1760e+00,  6.2860e+00,\n",
       "        6.3960e+00,  6.5060e+00,  6.6170e+00,  6.7270e+00,  6.8370e+00,\n",
       "        6.9470e+00,  7.0580e+00,  7.1680e+00,  7.2780e+00,  7.3880e+00,\n",
       "        7.4990e+00,  7.6090e+00,  7.7190e+00,  7.8290e+00,  7.9400e+00,\n",
       "        8.0500e+00,  8.1600e+00,  8.2700e+00,  8.3800e+00,  8.4910e+00,\n",
       "        8.6010e+00,  8.7110e+00,  8.8210e+00,  8.9320e+00,  9.0420e+00,\n",
       "        9.1520e+00,  9.2620e+00,  9.3730e+00,  9.4830e+00,  9.5930e+00,\n",
       "        9.7030e+00,  9.8140e+00,  9.9240e+00,  1.0034e+01,  1.0144e+01,\n",
       "        1.0254e+01,  1.0365e+01,  1.0475e+01,  1.0585e+01])"
      ]
     },
     "execution_count": 100,
     "metadata": {},
     "output_type": "execute_result"
    }
   ],
   "source": [
    "dos_qe[: , 0]"
   ]
  },
  {
   "cell_type": "code",
   "execution_count": 84,
   "metadata": {},
   "outputs": [
    {
     "name": "stdout",
     "output_type": "stream",
     "text": [
      "0.054999999999999716\n",
      "i: 0\n",
      "i: 1\n",
      "i: 2\n",
      "i: 3\n",
      "i: 4\n",
      "i: 5\n",
      "i: 6\n",
      "i: 7\n",
      "i: 8\n",
      "i: 9\n",
      "i: 10\n",
      "0.05531636363636405\n",
      "[769.07398317 767.98692378 767.96155254 767.90867842 767.8228868\n",
      " 767.71367989 767.59308992 767.47075313 767.35353666 767.24596084\n",
      " 767.15044248]\n",
      "[191.13617148 190.77127712 190.74968657 190.70934831 190.647702\n",
      " 190.57020954 190.48376024 190.39388149 190.30453521 190.21835441\n",
      " 190.13677113]\n"
     ]
    }
   ],
   "source": [
    "#ewidth=dos_qe[: , 0][1]-dos_qe[: , 0][0]\n",
    "ewidth = (dos_qe[: , 0][1]-dos_qe[: , 0][0])*0.5\n",
    "print(ewidth)\n",
    "ra_sigma = np.linspace(0.5*ewidth, 5*ewidth, 11)\n",
    "ra_enum = np.zeros(len(ra_sigma))\n",
    "ra_eband = np.zeros(len(ra_sigma))\n",
    "ra_en = np.linspace(dos_qe[0, 0], dos_qe[-1, 0], int((dos_qe[-1, 0]-dos_qe[0, 0])/ewidth)) \n",
    "for i in range(len(ra_sigma)):\n",
    "    print(\"i:\", i)\n",
    "    # Generate electron number \n",
    "    ra_enum[i] = gen_enum(k_weights_qe, ra_en, eigs_qe, sigma=ra_sigma[i])\n",
    "    # Generate band energy\n",
    "    ra_eband[i] = gen_eband(k_weights_qe, ra_en , eigs_qe, sigma=ra_sigma[i])\n",
    "print(ra_en[1]-ra_en[0])\n",
    "print(ra_enum)\n",
    "print(ra_eband)"
   ]
  },
  {
   "cell_type": "code",
   "execution_count": 85,
   "metadata": {},
   "outputs": [
    {
     "data": {
      "image/png": "[encoded data removed]",
      "text/plain": [
       "<Figure size 576x432 with 1 Axes>"
      ]
     },
     "metadata": {
      "needs_background": "light"
     },
     "output_type": "display_data"
    }
   ],
   "source": [
    "# Plot data        \n",
    "plt.figure(figsize=[8,6])\n",
    "ax = plt.subplot(1,1,1)\n",
    "ax.set_xlabel(r'Width of smearing [Ry]')\n",
    "#ax.set_ylabel(r'D(E)')\n",
    "plt.rcParams.update({'font.size': 22})\n",
    "\n",
    "#ax.set_ylim(767.95, 768.05)\n",
    "\n",
    "ax.hlines(enum_ref, ra_sigma[0], ra_sigma[-1], linewidth=3)\n",
    "ax.plot(ra_sigma,  ra_enum, linestyle='-',  linewidth=3, color='blue', label='Electron number')\n",
    "\n",
    "# Legend\n",
    "ax.legend(loc='upper right',frameon=False, bbox_to_anchor=(1.5, 1))\n",
    "plt.show()"
   ]
  },
  {
   "cell_type": "code",
   "execution_count": 86,
   "metadata": {},
   "outputs": [
    {
     "data": {
      "image/png": "[encoded data removed]",
      "text/plain": [
       "<Figure size 576x432 with 1 Axes>"
      ]
     },
     "metadata": {
      "needs_background": "light"
     },
     "output_type": "display_data"
    },
    {
     "name": "stdout",
     "output_type": "stream",
     "text": [
      "5.6447253206859394e-05\n"
     ]
    }
   ],
   "source": [
    "# Plot data        \n",
    "plt.figure(figsize=[8,6])\n",
    "ax = plt.subplot(1,1,1)\n",
    "ax.set_xlabel(r'Width of smearing [Ry]')\n",
    "#ax.set_ylabel(r'D(E)')\n",
    "plt.rcParams.update({'font.size': 22})\n",
    "\n",
    "\n",
    "ax.hlines(eband_ref/Ry2eV, ra_sigma[0], ra_sigma[-1], linewidth=3)\n",
    "ax.scatter(ra_sigma,  ra_eband, linestyle='-',  linewidth=3, color='red', label='Band energy')\n",
    "\n",
    "# Legend\n",
    "ax.legend(loc='upper right',frameon=False, bbox_to_anchor=(1.5, 1))\n",
    "plt.show()\n",
    "print(np.min(abs(ra_eband-eband_ref/Ry2eV))/256)"
   ]
  },
  {
   "cell_type": "code",
   "execution_count": 75,
   "metadata": {},
   "outputs": [
    {
     "name": "stdout",
     "output_type": "stream",
     "text": [
      "0.16622222222222136\n"
     ]
    }
   ],
   "source": [
    "print(4*ra_sigma[0])"
   ]
  },
  {
   "cell_type": "code",
   "execution_count": 87,
   "metadata": {},
   "outputs": [],
   "source": [
    "ra_dos = gen_DOS(k_weights_qe, ra_en, eigs_qe, sigma=ra_sigma[1] )"
   ]
  },
  {
   "cell_type": "code",
   "execution_count": 88,
   "metadata": {},
   "outputs": [
    {
     "data": {
      "image/png": "[encoded data removed]",
      "text/plain": [
       "<Figure size 576x432 with 1 Axes>"
      ]
     },
     "metadata": {
      "needs_background": "light"
     },
     "output_type": "display_data"
    }
   ],
   "source": [
    "# Plot data        \n",
    "plt.figure(figsize=[8,6])\n",
    "ax = plt.subplot(1,1,1)\n",
    "ax.set_xlabel(r'E [eV]')\n",
    "ax.set_ylabel(r'D(E)')\n",
    "plt.rcParams.update({'font.size': 22})\n",
    "\n",
    "ax.plot(ra_en        , ra_dos,        linestyle='-',  linewidth=1, color='red',  label='computed (adjusted width)')\n",
    "ax.plot(dos_qe[: , 0], dos_qe[: , 1], linestyle='-',  linewidth=1, color='black', label='QE-DOS')\n",
    "\n",
    "# Legend\n",
    "ax.legend(loc='upper right',frameon=False, bbox_to_anchor=(2, 1))\n",
    "plt.show()"
   ]
  },
  {
   "cell_type": "code",
   "execution_count": null,
   "metadata": {},
   "outputs": [],
   "source": [
    "# Generate electron number \n",
    "ra_en = dos_qe[: , 0]\n",
    "sigma_mod = sigma_qe*0.79255\n",
    "gen_enum(k_weights_qe, ra_en, eigs_qe, sigma=sigma_mod )"
   ]
  },
  {
   "cell_type": "markdown",
   "metadata": {},
   "source": [
    "Error in band energy compared to QE output"
   ]
  },
  {
   "cell_type": "code",
   "execution_count": null,
   "metadata": {},
   "outputs": [],
   "source": [
    "# Error in band energy (due to discretization of the energy grid in DOS calculation and choice of smearing width)\n",
    "eband_error = eband-eband_qe\n",
    "print(\"Error in Rydberg\", eband_error)\n",
    "print(\"Error in eV\", eband_error*Ry2eV)"
   ]
  },
  {
   "cell_type": "markdown",
   "metadata": {},
   "source": [
    "By adjusting the width of the Gaussian smearing we achieved the desired accuracy in the band energy, here < 1 meV.\n",
    "The corresponding DOS looks like this:"
   ]
  },
  {
   "cell_type": "code",
   "execution_count": null,
   "metadata": {},
   "outputs": [],
   "source": [
    "# Generate data\n",
    "ra_dos = gen_DOS(k_weights_qe, ra_en, eigs_qe, sigma=sigma_mod )\n",
    "        \n",
    "# Plot data        \n",
    "plt.figure(figsize=[8,6])\n",
    "ax = plt.subplot(1,1,1)\n",
    "ax.set_xlabel(r'E [eV]')\n",
    "ax.set_ylabel(r'D(E)')\n",
    "plt.rcParams.update({'font.size': 22})\n",
    "\n",
    "ax.plot(dos_qe[: , 0],  dos_qe[: , 1], linestyle='-',  linewidth=3, color='black', label='QE-DOS')\n",
    "ax.plot(dos_qe[: , 0] , ra_dos,        linestyle='-',  linewidth=3, color='red',  label='computed (adjusted width)')\n",
    "\n",
    "# Legend\n",
    "ax.legend(loc='upper right',frameon=False, bbox_to_anchor=(2, 1))\n",
    "plt.show()"
   ]
  },
  {
   "cell_type": "markdown",
   "metadata": {},
   "source": [
    "However, we can also increase the smearing width and also obtain an accurate band energy."
   ]
  },
  {
   "cell_type": "code",
   "execution_count": null,
   "metadata": {},
   "outputs": [],
   "source": [
    "# Generate band energy\n",
    "emin = dos_qe[: , 0][0]\n",
    "emax = dos_qe[: , 0][-1]\n",
    "ra_en = dos_qe[: , 0]\n",
    "sigma_mod = sigma_qe*29.177\n",
    "eband = gen_eband(k_weights_qe, ra_en , eigs_qe, sigma=sigma_mod )\n",
    "print(\"smearing width {0} eV ({1} Ry)\".format(sigma_mod, sigma_mod/Ry2eV))\n",
    "print(\"Band energy {0} Ry)\".format(eband))"
   ]
  },
  {
   "cell_type": "code",
   "execution_count": null,
   "metadata": {},
   "outputs": [],
   "source": [
    "# Error in band energy (due to discretization of the energy grid in DOS calculation and choice of smearing width)\n",
    "eband_error = eband-eband_qe\n",
    "print(\"Error in Rydberg\", eband_error)\n",
    "print(\"Error in eV\", eband_error*Ry2eV)"
   ]
  },
  {
   "cell_type": "markdown",
   "metadata": {},
   "source": [
    "The corresponding DOS looks like this:"
   ]
  },
  {
   "cell_type": "code",
   "execution_count": null,
   "metadata": {},
   "outputs": [],
   "source": [
    "# Generate data\n",
    "ra_dos = gen_DOS(k_weights_qe, ra_en, eigs_qe, sigma=sigma_mod )\n",
    "        \n",
    "# Plot data        \n",
    "plt.figure(figsize=[8,6])\n",
    "ax = plt.subplot(1,1,1)\n",
    "ax.set_xlabel(r'E [eV]')\n",
    "ax.set_ylabel(r'D(E)')\n",
    "plt.rcParams.update({'font.size': 22})\n",
    "\n",
    "ax.plot(dos_qe[: , 0], dos_qe[: , 1], linestyle='-',  linewidth=3, color='black', label='QE-DOS')\n",
    "ax.plot(ra_en        , ra_dos,        linestyle='-',  linewidth=3, color='red',  label='computed (adjusted width)')\n",
    "\n",
    "# Legend\n",
    "ax.legend(loc='upper right',frameon=False, bbox_to_anchor=(2, 1))\n",
    "plt.show()"
   ]
  },
  {
   "cell_type": "markdown",
   "metadata": {},
   "source": [
    "We can also generate a different energy grid. However, it the integral quickly converges with respect to the number of grid points. We can increase the range of the enegy grid to make sure the DOS decays to zero at the limits."
   ]
  },
  {
   "cell_type": "code",
   "execution_count": null,
   "metadata": {},
   "outputs": [],
   "source": [
    "# Generate band energy\n",
    "emin = dos_qe[: , 0][0]-1\n",
    "emax = dos_qe[: , 0][-1]+1\n",
    "# Decrease the number of energy grid points\n",
    "ra_en = np.linspace(emin, emax, int(len(dos_qe[: , 0])))\n",
    "sigma_mod = sigma_qe*29.908\n",
    "eband = gen_eband(k_weights_qe, ra_en , eigs_qe, sigma=sigma_mod )\n",
    "print(\"smearing width {0} eV ({1} Ry)\".format(sigma_mod, sigma_mod/Ry2eV))\n",
    "print(\"Band energy {0} Ry)\".format(eband))"
   ]
  },
  {
   "cell_type": "code",
   "execution_count": null,
   "metadata": {},
   "outputs": [],
   "source": [
    "# Error in band energy (due to discretization of the energy grid in DOS calculation and choice of smearing width)\n",
    "eband_error = eband-eband_qe\n",
    "print(\"Error in Rydberg\", eband_error)\n",
    "print(\"Error in eV\", eband_error*Ry2eV)"
   ]
  },
  {
   "cell_type": "markdown",
   "metadata": {},
   "source": [
    "The corresponding DOS looks like:"
   ]
  },
  {
   "cell_type": "code",
   "execution_count": null,
   "metadata": {},
   "outputs": [],
   "source": [
    "# Generate data\n",
    "ra_dos = gen_DOS(k_weights_qe, ra_en, eigs_qe, sigma=sigma_mod )\n",
    "        \n",
    "# Plot data        \n",
    "plt.figure(figsize=[8,6])\n",
    "ax = plt.subplot(1,1,1)\n",
    "ax.set_xlabel(r'E [eV]')\n",
    "ax.set_ylabel(r'D(E)')\n",
    "plt.rcParams.update({'font.size': 22})\n",
    "\n",
    "ax.plot(dos_qe[: , 0], dos_qe[: , 1], linestyle='-',  linewidth=3, color='black', label='QE-DOS')\n",
    "ax.plot(ra_en        , ra_dos,        linestyle='-',  linewidth=3, color='red',  label='computed (adjusted width)')\n",
    "\n",
    "# Legend\n",
    "ax.legend(loc='upper right',frameon=False, bbox_to_anchor=(2, 1))\n",
    "plt.show()"
   ]
  },
  {
   "cell_type": "markdown",
   "metadata": {},
   "source": [
    "Check for another snapshot.\n",
    "The band energy from the QE output of snapshot 1 is:"
   ]
  },
  {
   "cell_type": "code",
   "execution_count": 51,
   "metadata": {},
   "outputs": [
    {
     "name": "stdout",
     "output_type": "stream",
     "text": [
      "189.2821915699999\n"
     ]
    }
   ],
   "source": [
    "eband_qe_01 = 739.08601067+4.18224128-553.98606038\n",
    "print(eband_qe_01)"
   ]
  },
  {
   "cell_type": "code",
   "execution_count": 66,
   "metadata": {},
   "outputs": [
    {
     "name": "stdout",
     "output_type": "stream",
     "text": [
      "0.11000000000000032\n",
      "[760.49908813 760.8287977  761.31147628 761.84802112 762.38184006\n",
      " 762.88243346 763.33481013 763.73317302 764.07731677 764.37052851\n",
      " 764.61823564 764.82701935 765.00384572 765.1554767  765.28805498\n",
      " 765.40685383 765.51616967 765.61932532 765.71874934 765.81609924\n",
      " 765.91240276 766.00819853 766.10366451 766.19872772 766.29315348\n",
      " 766.38661448 766.47874203 766.56916234 766.6575207  766.74349655\n",
      " 766.82681167 766.9072337  766.98457624 767.05869702 767.12949467\n",
      " 767.19690499 767.26089688 767.32146826 767.37864228 767.43246365\n",
      " 767.48299536 767.53031572 767.57451559 767.61569608 767.65396636\n",
      " 767.68944179 767.72224224 767.75249066 767.78031175 767.80583081\n",
      " 767.82917281 767.85046146 767.86981852 767.88736313 767.90321127\n",
      " 767.91747533 767.93026373 767.94168062 767.95182563 767.96079378\n",
      " 767.96867526 767.97555548 767.98151497 767.98662947 767.99096993\n",
      " 767.99460266 767.99758941 767.99998751 768.00185005 768.00322604\n",
      " 768.00416057 768.00469505 768.00486737 768.0047121  768.00426072\n",
      " 768.00354179 768.00258115 768.00140213 768.00002572 767.99847076\n",
      " 767.99675411 767.99489082 767.99289427 767.99077636 767.98854757\n",
      " 767.98621721 767.98379341 767.98128335 767.97869328 767.97602867\n",
      " 767.97329427 767.9704942  767.96763205 767.96471089 767.96173339\n",
      " 767.95870184 767.95561821 767.95248421 767.94930129 767.94607073\n",
      " 767.94279362]\n",
      "[186.17224732 186.22634183 186.33944118 186.48798993 186.65780086\n",
      " 186.84004441 187.02880338 187.21977365 187.40966365 187.5959447\n",
      " 187.77673774 187.95073168 188.11709729 188.27539428 188.42547988\n",
      " 188.56742705 188.70145691 188.82788616 188.94708796 189.0594638\n",
      " 189.16542366 189.26537238 189.35970029 189.44877701 189.53294757\n",
      " 189.61253021 189.68781549 189.75906653 189.82651996 189.89038757\n",
      " 189.95085835 190.0081009  190.06226595 190.11348889 190.1618923\n",
      " 190.20758828 190.25068059 190.29126652 190.32943855 190.36528567\n",
      " 190.39889448 190.43035    190.4597363  190.48713685 190.51263484\n",
      " 190.53631318 190.5582545  190.57854107 190.59725456 190.61447587\n",
      " 190.63028485 190.64476005 190.65797845 190.67001523 190.68094351\n",
      " 190.69083415 190.6997556  190.70777367 190.71495147 190.72134928\n",
      " 190.72702448 190.73203151 190.73642186 190.74024407 190.74354374\n",
      " 190.7463636  190.74874356 190.75072079 190.75232979 190.75360252\n",
      " 190.75456848 190.75525484 190.75568655 190.75588644 190.75587537\n",
      " 190.75567236 190.75529466 190.75475792 190.75407628 190.75326249\n",
      " 190.752328   190.75128311 190.750137   190.74889789 190.74757309\n",
      " 190.74616911 190.74469169 190.74314593 190.74153633 190.73986686\n",
      " 190.73814099 190.73636178 190.73453193 190.73265379 190.73072941\n",
      " 190.72876061 190.72674897 190.72469589 190.72260258 190.72047015\n",
      " 190.71829954]\n"
     ]
    }
   ],
   "source": [
    "ewidth_01=dos_qe_01[: , 0][1]-dos_qe_01[: , 0][0]\n",
    "print(ewidth_01)\n",
    "emin = dos_qe_01[: , 0][0]-1\n",
    "emax = dos_qe_01[: , 0][-1]+1\n",
    "ra_en_01 = np.linspace(emin, emax, int(len(dos_qe_01[: , 0])))\n",
    "ra_sigma_01 = np.linspace(20*ewidth_01, ewidth_01, 101)\n",
    "ra_enum_01 = np.zeros(len(ra_sigma_01))\n",
    "ra_eband_01 = np.zeros(len(ra_sigma_01))\n",
    "for i in range(len(ra_sigma)):\n",
    "    ra_en_01 = dos_qe[: , 0]\n",
    "    # Generate electron number \n",
    "    ra_enum_01[i] = gen_enum(k_weights_qe_01, ra_en_01, eigs_qe_01, sigma=ra_sigma_01[i])\n",
    "    # Generate band energy\n",
    "    ra_eband_01[i] = gen_eband(k_weights_qe_01, ra_en_01, eigs_qe_01, sigma=ra_sigma_01[i])\n",
    "print(ra_enum_01)\n",
    "print(ra_eband_01)"
   ]
  },
  {
   "cell_type": "code",
   "execution_count": 67,
   "metadata": {},
   "outputs": [
    {
     "data": {
      "image/png": "[encoded data removed]",
      "text/plain": [
       "<Figure size 576x432 with 1 Axes>"
      ]
     },
     "metadata": {
      "needs_background": "light"
     },
     "output_type": "display_data"
    }
   ],
   "source": [
    "# Plot data        \n",
    "plt.figure(figsize=[8,6])\n",
    "ax = plt.subplot(1,1,1)\n",
    "ax.set_xlabel(r'Width of energy bin [Ry]')\n",
    "#ax.set_ylabel(r'D(E)')\n",
    "plt.rcParams.update({'font.size': 22})\n",
    "\n",
    "ax.hlines(768, ra_sigma_01[0], ra_sigma_01[-1], linewidth=3)\n",
    "ax.plot(ra_sigma_01,  ra_enum_01, linestyle='-',  linewidth=3, color='blue', label='Electron number')\n",
    "\n",
    "# Legend\n",
    "ax.legend(loc='upper right',frameon=False, bbox_to_anchor=(1.5, 1))\n",
    "plt.show()"
   ]
  },
  {
   "cell_type": "code",
   "execution_count": 68,
   "metadata": {},
   "outputs": [
    {
     "data": {
      "image/png": "[encoded data removed]",
      "text/plain": [
       "<Figure size 576x432 with 1 Axes>"
      ]
     },
     "metadata": {
      "needs_background": "light"
     },
     "output_type": "display_data"
    }
   ],
   "source": [
    "# Plot data        \n",
    "plt.figure(figsize=[8,6])\n",
    "ax = plt.subplot(1,1,1)\n",
    "ax.set_xlabel(r'Width of energy bin [Ry]')\n",
    "#ax.set_ylabel(r'D(E)')\n",
    "plt.rcParams.update({'font.size': 22})\n",
    "\n",
    "ax.hlines(eband_qe_01, ra_sigma_01[0], ra_sigma_01[-1], linewidth=3)\n",
    "ax.plot(ra_sigma_01,  ra_eband_01, linestyle='-',  linewidth=3, color='red', label='Band energy')\n",
    "\n",
    "# Legend\n",
    "ax.legend(loc='upper right',frameon=False, bbox_to_anchor=(1.5, 1))\n",
    "plt.show()"
   ]
  },
  {
   "cell_type": "code",
   "execution_count": null,
   "metadata": {},
   "outputs": [],
   "source": [
    "# Generate band energy\n",
    "emin = dos_qe_01[: , 0][0]-1\n",
    "emax = dos_qe_01[: , 0][-1]+1\n",
    "# Decrease the number of energy grid points\n",
    "ra_en = np.linspace(emin, emax, 2*int(len(dos_qe_01[: , 0])))\n",
    "sigma_mod = sigma_qe*22.90#22.882\n",
    "eband_01 = gen_eband(k_weights_qe_01, ra_en , eigs_qe_01, sigma=sigma_mod )\n",
    "print(\"smearing width {0} eV ({1} Ry)\".format(sigma_mod, sigma_mod/Ry2eV))\n",
    "print(\"Band energy {0} Ry)\".format(eband_01))"
   ]
  },
  {
   "cell_type": "code",
   "execution_count": null,
   "metadata": {},
   "outputs": [],
   "source": [
    "# Error in band energy (due to discretization of the energy grid in DOS calculation and choice of smearing width)\n",
    "eband_error_01 = eband_01-eband_qe_01\n",
    "print(\"Error in Rydberg\", eband_error_01)\n",
    "print(\"Error in eV\", eband_error_01*Ry2eV)"
   ]
  },
  {
   "cell_type": "markdown",
   "metadata": {},
   "source": [
    "The corresponding DOS looks like:"
   ]
  },
  {
   "cell_type": "code",
   "execution_count": null,
   "metadata": {},
   "outputs": [],
   "source": [
    "# Generate data\n",
    "ra_dos = gen_DOS(k_weights_qe_01, ra_en, eigs_qe_01, sigma=sigma_mod )\n",
    "        \n",
    "# Plot data        \n",
    "plt.figure(figsize=[8,6])\n",
    "ax = plt.subplot(1,1,1)\n",
    "ax.set_xlabel(r'E [eV]')\n",
    "ax.set_ylabel(r'D(E)')\n",
    "plt.rcParams.update({'font.size': 22})\n",
    "\n",
    "ax.plot(dos_qe_01[: , 0], dos_qe_01[: , 1], linestyle='-',  linewidth=3, color='black', label='QE-DOS')\n",
    "ax.plot(ra_en           , ra_dos,           linestyle='-',  linewidth=3, color='red',   label='computed (adjusted width)')\n",
    "\n",
    "# Legend\n",
    "ax.legend(loc='upper right',frameon=False, bbox_to_anchor=(2, 1))\n",
    "plt.show()"
   ]
  },
  {
   "cell_type": "markdown",
   "metadata": {},
   "source": [
    "This illustrates the issue with Gaussian smearing. The smearing width differs between the different snapshots. This means we cannot choose a fixed smearing width and obtain high accuracy in the band energy throughout a priori (i.e. without knowing the true value of the band energy). However, this might be fine, since we need to choose the smearing width only for the generation of training data. It might be somewhat inconvenient, but for each snapshot in the training data we can find the corresponding smearing width which will yield a band energy up to a target accuracy."
   ]
  },
  {
   "cell_type": "markdown",
   "metadata": {},
   "source": [
    "# Scratchpad"
   ]
  },
  {
   "cell_type": "markdown",
   "metadata": {},
   "source": [
    "To do\n",
    "* Perform search over smearing width using sp.optimize library. But this requires adapting the definitions of the functions above.\n",
    "* Different representation of the $\\delta$ function, for example Marzari-Vanderbilt (MV)."
   ]
  },
  {
   "cell_type": "code",
   "execution_count": null,
   "metadata": {},
   "outputs": [],
   "source": [
    "# Define MV representation of delta function\n",
    "def MV(en, mu, sigma):\n",
    "    x = (mu-en)/sigma\n",
    "    result = 1.0/np.sqrt(np.pi)*(2.0-np.sqrt(2)*x)*np.exp(-1.0*(x-(1.0/np.sqrt(2)))**2)\n",
    "    return result"
   ]
  },
  {
   "cell_type": "code",
   "execution_count": null,
   "metadata": {},
   "outputs": [],
   "source": [
    "# Sanity check of smearing functions\n",
    "# Generate data\n",
    "ra_en = np.linspace(7.,9.,601)\n",
    "ra_gaussian = gaussian(ra_en, eF=fermi_energy, sigma=sigma_qe)\n",
    "ra_MV = MV(ra_en, mu=fermi_energy, sigma=sigma_qe*2)\n",
    "        \n",
    "# Plot data        \n",
    "plt.figure(figsize=[8,6])\n",
    "ax = plt.subplot(1,1,1)\n",
    "ax.set_xlabel(r'E [eV]')\n",
    "ax.set_ylabel(r'D(E)')\n",
    "plt.rcParams.update({'font.size': 22})\n",
    "\n",
    "ax.plot(ra_en, ra_MV, linestyle='-',  linewidth=3, color='red', label='MV')\n",
    "#ax.plot(ra_en, ra_gaussian, linestyle='-',  linewidth=3, color='blue', label='gaussian')\n",
    "\n",
    "# Legend\n",
    "ax.legend(loc='upper right',frameon=False, bbox_to_anchor=(1.5, 1))\n",
    "plt.show()"
   ]
  },
  {
   "cell_type": "code",
   "execution_count": null,
   "metadata": {},
   "outputs": [],
   "source": [
    "# Function generating DOS from eigenvalues\n",
    "def gen_DOS_ST(k_weights, array_en, array_eigs, sigma, smearing_type):\n",
    "    # input:\n",
    "    ## k_weights: weights of k-point summation (taken from QE output)\n",
    "    ## array_en: energy grid [eV]\n",
    "    ## array_eigs: array[dim_bnd, dim_k] containing eigenvalues (\\epsilon_{i,k})\n",
    "    ## sigma: width of Gaussian [eV]\n",
    "    # output:\n",
    "    ## array_dos: ra_dos\n",
    "    ## array_dos_contr: ra_dos_ik (terms for each i,k)\n",
    "    dim_bnd = len((array_eigs[: , 0]))\n",
    "    dim_k = len((array_eigs[0 , :]))\n",
    "    ra_en = array_en #dos_qe[: , 0]       # energy grid (same as QE-DOS input/output) \n",
    "    ra_dos_ik = [[] for i in range(dim_bnd)]\n",
    "    ra_dos = np.zeros(len(array_en)) #create empty array\n",
    "    for idx_bnd in range(dim_bnd):\n",
    "        for idx_k in range(dim_k):\n",
    "            if (smearing_type == 1):\n",
    "                smearing = gaussian(en=array_en, eF=array_eigs[idx_bnd , :][idx_k], sigma=sigma)\n",
    "            elif (smearing_type == 2):\n",
    "                smearing = MV(en=array_en, mu=array_eigs[idx_bnd , :][idx_k], sigma=sigma)\n",
    "            else:\n",
    "                print(\"Error, choose valid smearing function.\")\n",
    "            ra_dos_ik[idx_bnd].append(smearing)\n",
    "            # Sum the Gaussians over idx_band and idx_k\n",
    "            ra_dos += k_weights[idx_k]*ra_dos_ik[idx_bnd][idx_k]\n",
    "    return ra_dos #, ra_dos_ik"
   ]
  },
  {
   "cell_type": "code",
   "execution_count": null,
   "metadata": {},
   "outputs": [],
   "source": [
    "# Generate data\n",
    "ra_en = dos_qe[: , 0]\n",
    "ra_dos = gen_DOS_ST(k_weights_qe, ra_en, eigs_qe, sigma=sigma_qe*Ry2eV,smearing_type=2)\n",
    "\n",
    "# Plot data        \n",
    "plt.figure(figsize=[8,6])\n",
    "ax = plt.subplot(1,1,1)\n",
    "ax.set_xlabel(r'E [eV]')\n",
    "ax.set_ylabel(r'D(E)')\n",
    "plt.rcParams.update({'font.size': 22})\n",
    "\n",
    "ax.plot(dos_qe[: , 0],  dos_qe[: , 1], linestyle='-',  linewidth=3, color='black', label='QE-DOS')\n",
    "ax.plot(dos_qe[: , 0] , ra_dos,        linestyle='--', linewidth=3, color='red',  label='computed')\n",
    "\n",
    "# Legend\n",
    "ax.legend(loc='upper right',frameon=False, bbox_to_anchor=(1.5, 1))\n",
    "plt.show()"
   ]
  },
  {
   "cell_type": "code",
   "execution_count": null,
   "metadata": {},
   "outputs": [],
   "source": [
    "# Function generating band energy from DOS\n",
    "## Integrate DOS*E*FD to obtain band energy\n",
    "def gen_eband_ST(k_weights, array_en, array_eigs, sigma, smearing_type):\n",
    "    # input:\n",
    "    ## k_weights: weights of k-point summation (taken from QE output)\n",
    "    ## array_en: energy grid [eV]\n",
    "    ## array_eigs: array[dim_bnd, dim_k] containing eigenvalues (\\epsilon_{i,k})\n",
    "    ## sigma: width of Gaussian [eV]\n",
    "    # output:\n",
    "    ## array_dos: ra_dos\n",
    "    ## array_dos_contr: ra_dos_ik (terms for each i,k)\n",
    "    ra_fd = fd_function(array_en, eF=fermi_energy, t=temp)\n",
    "    #ra_dos, ra_dos_ik = gen_DOS(k_weights_qe, array_en, eigs_qe, sigma)\n",
    "    ra_dos = gen_DOS_ST(k_weights_qe, array_en, eigs_qe, sigma, smearing_type)\n",
    "    eband = sp.integrate.trapz(ra_dos*array_en*ra_fd, array_en)\n",
    "    #Convert from eV to Ry for comparison with QE output\n",
    "    eband_Ry = eband/Ry2eV\n",
    "    return eband_Ry"
   ]
  },
  {
   "cell_type": "code",
   "execution_count": null,
   "metadata": {},
   "outputs": [],
   "source": [
    "# Generate band energy\n",
    "emin = dos_qe[: , 0][0]-1\n",
    "emax = dos_qe[: , 0][-1]+1\n",
    "ra_en = np.linspace(emin, emax, int(len(dos_qe[: , 0])))\n",
    "sigma_mod = sigma_qe*30.56825\n",
    "eband = gen_eband_ST(k_weights_qe, ra_en , eigs_qe, sigma=sigma_mod, smearing_type=2)\n",
    "print(\"smearing width {0} eV ({1} Ry)\".format(sigma_mod, sigma_mod/Ry2eV))\n",
    "print(\"Band energy {0} Ry)\".format(eband))"
   ]
  },
  {
   "cell_type": "code",
   "execution_count": null,
   "metadata": {},
   "outputs": [],
   "source": [
    "# Error in band energy (due to discretization of the energy grid in DOS calculation and choice of smearing width)\n",
    "eband_error = eband-eband_qe\n",
    "print(\"Error in Rydberg\", eband_error)\n",
    "print(\"Error in eV\", eband_error*Ry2eV)"
   ]
  },
  {
   "cell_type": "code",
   "execution_count": null,
   "metadata": {},
   "outputs": [],
   "source": [
    "# Generate data\n",
    "ra_dos = gen_DOS_ST(k_weights_qe, ra_en, eigs_qe, sigma=sigma_mod, smearing_type=2)\n",
    "        \n",
    "# Plot data        \n",
    "plt.figure(figsize=[8,6])\n",
    "ax = plt.subplot(1,1,1)\n",
    "ax.set_xlabel(r'E [eV]')\n",
    "ax.set_ylabel(r'D(E)')\n",
    "plt.rcParams.update({'font.size': 22})\n",
    "\n",
    "ax.plot(dos_qe[: , 0],  dos_qe[: , 1], linestyle='-',  linewidth=3, color='black', label='QE-DOS')\n",
    "ax.plot(dos_qe[: , 0] , ra_dos,        linestyle='-',  linewidth=3, color='red',  label='computed (adjusted width)')\n",
    "\n",
    "# Legend\n",
    "ax.legend(loc='upper right',frameon=False, bbox_to_anchor=(2, 1))\n",
    "plt.show()"
   ]
  },
  {
   "cell_type": "code",
   "execution_count": null,
   "metadata": {},
   "outputs": [],
   "source": []
  }
 ],
 "metadata": {
  "kernelspec": {
   "display_name": "Python 3",
   "language": "python",
   "name": "python3"
  },
  "language_info": {
   "codemirror_mode": {
    "name": "ipython",
    "version": 3
   },
   "file_extension": ".py",
   "mimetype": "text/x-python",
   "name": "python",
   "nbconvert_exporter": "python",
   "pygments_lexer": "ipython3",
   "version": "3.7.4"
  }
 },
 "nbformat": 4,
 "nbformat_minor": 2
}
